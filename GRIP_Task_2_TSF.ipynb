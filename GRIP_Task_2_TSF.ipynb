{
  "nbformat": 4,
  "nbformat_minor": 0,
  "metadata": {
    "colab": {
      "name": "GRIP_Task 2 TSF.ipynb",
      "provenance": [],
      "collapsed_sections": [],
      "authorship_tag": "ABX9TyNfvdfSxtn1RefExkSApG9u",
      "include_colab_link": true
    },
    "kernelspec": {
      "name": "python3",
      "display_name": "Python 3"
    }
  },
  "cells": [
    {
      "cell_type": "markdown",
      "metadata": {
        "id": "view-in-github",
        "colab_type": "text"
      },
      "source": [
        "<a href=\"https://colab.research.google.com/github/Bhuvanjeet/Graduate-Rotational-Internship-TSF/blob/main/GRIP_Task_2_TSF.ipynb\" target=\"_parent\"><img src=\"https://colab.research.google.com/assets/colab-badge.svg\" alt=\"Open In Colab\"/></a>"
      ]
    },
    {
      "cell_type": "markdown",
      "metadata": {
        "id": "WSFTQQTMy8-X"
      },
      "source": [
        "**The Sparks Foundation - Graduate Rotational Internship Program (GRIP)**\n",
        "\n",
        "![TSF Logo](https://drive.google.com/uc?export=view&id=1Dclq9OlAsBES7hRc-vYTBZFbo_OIZfg8)\n",
        "\n",
        "**Task - 2**\n",
        "\n",
        "**By: - Bhuvanjeet Singh Gandhi**\n",
        "\n",
        "**Prediction using Unsupervised ML**\n",
        "\n",
        "**To predict the optimum number of clusters and represent it visually, from the given ‘Iris’ dataset.**\n",
        "\n",
        "**Notebook Overview:**\n",
        "\n",
        "**1. Exploratory Data Analysis**\n",
        "\n",
        "**2. Data Preparation - for ML model**\n",
        "\n",
        "**3. Finding the optimum number of clusters - Elbow Method**\n",
        "\n",
        "**4. K-Means Algorithm**\n",
        "\n",
        "**5. Results , Evaluation and Metrics**\n"
      ]
    },
    {
      "cell_type": "markdown",
      "metadata": {
        "id": "tDf32Lp91WOH"
      },
      "source": [
        "**Exploratory Data Analysis - EDA**"
      ]
    },
    {
      "cell_type": "code",
      "metadata": {
        "id": "9f-ZWBRCC-YY"
      },
      "source": [
        "#importing required libraries\n",
        "import numpy as np\n",
        "import pandas as pd\n",
        "import matplotlib.pyplot as plt\n",
        "import seaborn as sns\n",
        "%matplotlib inline"
      ],
      "execution_count": 46,
      "outputs": []
    },
    {
      "cell_type": "code",
      "metadata": {
        "id": "xPN6TU9CdiZn"
      },
      "source": [
        "from sklearn import datasets\n",
        "iris=datasets.load_iris()\n",
        "#converting data which is a numpy array to DataFrame\n",
        "df=pd.DataFrame(iris.data,columns=iris.feature_names)\n",
        "df_target = pd.DataFrame(iris.target, columns = ['Target'])"
      ],
      "execution_count": 47,
      "outputs": []
    },
    {
      "cell_type": "code",
      "metadata": {
        "id": "KV3ICGO7hJ-U",
        "outputId": "27a48210-8b74-4137-860c-718222f5247d",
        "colab": {
          "base_uri": "https://localhost:8080/",
          "height": 195
        }
      },
      "source": [
        "df.head()"
      ],
      "execution_count": 48,
      "outputs": [
        {
          "output_type": "execute_result",
          "data": {
            "text/html": [
              "<div>\n",
              "<style scoped>\n",
              "    .dataframe tbody tr th:only-of-type {\n",
              "        vertical-align: middle;\n",
              "    }\n",
              "\n",
              "    .dataframe tbody tr th {\n",
              "        vertical-align: top;\n",
              "    }\n",
              "\n",
              "    .dataframe thead th {\n",
              "        text-align: right;\n",
              "    }\n",
              "</style>\n",
              "<table border=\"1\" class=\"dataframe\">\n",
              "  <thead>\n",
              "    <tr style=\"text-align: right;\">\n",
              "      <th></th>\n",
              "      <th>sepal length (cm)</th>\n",
              "      <th>sepal width (cm)</th>\n",
              "      <th>petal length (cm)</th>\n",
              "      <th>petal width (cm)</th>\n",
              "    </tr>\n",
              "  </thead>\n",
              "  <tbody>\n",
              "    <tr>\n",
              "      <th>0</th>\n",
              "      <td>5.1</td>\n",
              "      <td>3.5</td>\n",
              "      <td>1.4</td>\n",
              "      <td>0.2</td>\n",
              "    </tr>\n",
              "    <tr>\n",
              "      <th>1</th>\n",
              "      <td>4.9</td>\n",
              "      <td>3.0</td>\n",
              "      <td>1.4</td>\n",
              "      <td>0.2</td>\n",
              "    </tr>\n",
              "    <tr>\n",
              "      <th>2</th>\n",
              "      <td>4.7</td>\n",
              "      <td>3.2</td>\n",
              "      <td>1.3</td>\n",
              "      <td>0.2</td>\n",
              "    </tr>\n",
              "    <tr>\n",
              "      <th>3</th>\n",
              "      <td>4.6</td>\n",
              "      <td>3.1</td>\n",
              "      <td>1.5</td>\n",
              "      <td>0.2</td>\n",
              "    </tr>\n",
              "    <tr>\n",
              "      <th>4</th>\n",
              "      <td>5.0</td>\n",
              "      <td>3.6</td>\n",
              "      <td>1.4</td>\n",
              "      <td>0.2</td>\n",
              "    </tr>\n",
              "  </tbody>\n",
              "</table>\n",
              "</div>"
            ],
            "text/plain": [
              "   sepal length (cm)  sepal width (cm)  petal length (cm)  petal width (cm)\n",
              "0                5.1               3.5                1.4               0.2\n",
              "1                4.9               3.0                1.4               0.2\n",
              "2                4.7               3.2                1.3               0.2\n",
              "3                4.6               3.1                1.5               0.2\n",
              "4                5.0               3.6                1.4               0.2"
            ]
          },
          "metadata": {
            "tags": []
          },
          "execution_count": 48
        }
      ]
    },
    {
      "cell_type": "code",
      "metadata": {
        "id": "kQWQE-MkyGOi",
        "outputId": "3a87c85b-a0ab-451f-a5d1-1b250831418f",
        "colab": {
          "base_uri": "https://localhost:8080/",
          "height": 195
        }
      },
      "source": [
        "df_target.head()"
      ],
      "execution_count": 49,
      "outputs": [
        {
          "output_type": "execute_result",
          "data": {
            "text/html": [
              "<div>\n",
              "<style scoped>\n",
              "    .dataframe tbody tr th:only-of-type {\n",
              "        vertical-align: middle;\n",
              "    }\n",
              "\n",
              "    .dataframe tbody tr th {\n",
              "        vertical-align: top;\n",
              "    }\n",
              "\n",
              "    .dataframe thead th {\n",
              "        text-align: right;\n",
              "    }\n",
              "</style>\n",
              "<table border=\"1\" class=\"dataframe\">\n",
              "  <thead>\n",
              "    <tr style=\"text-align: right;\">\n",
              "      <th></th>\n",
              "      <th>Target</th>\n",
              "    </tr>\n",
              "  </thead>\n",
              "  <tbody>\n",
              "    <tr>\n",
              "      <th>0</th>\n",
              "      <td>0</td>\n",
              "    </tr>\n",
              "    <tr>\n",
              "      <th>1</th>\n",
              "      <td>0</td>\n",
              "    </tr>\n",
              "    <tr>\n",
              "      <th>2</th>\n",
              "      <td>0</td>\n",
              "    </tr>\n",
              "    <tr>\n",
              "      <th>3</th>\n",
              "      <td>0</td>\n",
              "    </tr>\n",
              "    <tr>\n",
              "      <th>4</th>\n",
              "      <td>0</td>\n",
              "    </tr>\n",
              "  </tbody>\n",
              "</table>\n",
              "</div>"
            ],
            "text/plain": [
              "   Target\n",
              "0       0\n",
              "1       0\n",
              "2       0\n",
              "3       0\n",
              "4       0"
            ]
          },
          "metadata": {
            "tags": []
          },
          "execution_count": 49
        }
      ]
    },
    {
      "cell_type": "code",
      "metadata": {
        "id": "06NUBkWNyXeW",
        "outputId": "4a496a9a-5ebd-42a5-be4c-124b592bd44b",
        "colab": {
          "base_uri": "https://localhost:8080/"
        }
      },
      "source": [
        "df_target.value_counts()"
      ],
      "execution_count": 50,
      "outputs": [
        {
          "output_type": "execute_result",
          "data": {
            "text/plain": [
              "Target\n",
              "2         50\n",
              "1         50\n",
              "0         50\n",
              "dtype: int64"
            ]
          },
          "metadata": {
            "tags": []
          },
          "execution_count": 50
        }
      ]
    },
    {
      "cell_type": "code",
      "metadata": {
        "id": "9crz69zxvWB8",
        "outputId": "1d05d5ff-bcd3-43ee-d38c-b2643b288bf2",
        "colab": {
          "base_uri": "https://localhost:8080/"
        }
      },
      "source": [
        "print(iris.target_names)"
      ],
      "execution_count": 51,
      "outputs": [
        {
          "output_type": "stream",
          "text": [
            "['setosa' 'versicolor' 'virginica']\n"
          ],
          "name": "stdout"
        }
      ]
    },
    {
      "cell_type": "markdown",
      "metadata": {
        "id": "v0eEv7YL0sao"
      },
      "source": [
        "**Data Preparation - for ML model**"
      ]
    },
    {
      "cell_type": "code",
      "metadata": {
        "id": "ZLDf3yXCyzbo"
      },
      "source": [
        "X=df.iloc[:,:].values\n",
        "y = df_target.iloc[:, 0].values"
      ],
      "execution_count": 52,
      "outputs": []
    },
    {
      "cell_type": "markdown",
      "metadata": {
        "id": "Ox6kRO_X0mUP"
      },
      "source": [
        "**Finding the optimum number of clusters - Elbow Method**"
      ]
    },
    {
      "cell_type": "code",
      "metadata": {
        "id": "VGP32FcthRZ0"
      },
      "source": [
        "from sklearn.cluster import KMeans\n",
        "history=[]    #to store WCSS - within cluster sum of squares\n",
        "for i in range(1,15):\n",
        "  km=KMeans(n_clusters=i,random_state=0)\n",
        "  km.fit(X)\n",
        "  history.append(km.inertia_)   #'km.inertia_' sinds the sum of squared distances of samples to their closest cluster center.\n",
        "  y_pred=km.predict(X)"
      ],
      "execution_count": 53,
      "outputs": []
    },
    {
      "cell_type": "code",
      "metadata": {
        "id": "0C_tFpKFjVCo",
        "outputId": "99050da1-3b19-4586-bd7c-6ba2aad8197e",
        "colab": {
          "base_uri": "https://localhost:8080/",
          "height": 404
        }
      },
      "source": [
        "plt.figure(figsize=(12,6))\n",
        "plt.plot(range(1,15),history,marker=\"x\",c=\"r\")\n",
        "plt.xlabel('Number Of Clusters')\n",
        "plt.ylabel('Loss')\n",
        "plt.title('Elbow Method')\n",
        "plt.show()"
      ],
      "execution_count": 61,
      "outputs": [
        {
          "output_type": "display_data",
          "data": {
            "image/png": "[encoded data removed]",
            "text/plain": [
              "<Figure size 864x432 with 1 Axes>"
            ]
          },
          "metadata": {
            "tags": [],
            "needs_background": "light"
          }
        }
      ]
    },
    {
      "cell_type": "markdown",
      "metadata": {
        "id": "6fFAqL0-1DTL"
      },
      "source": [
        "From the above graph, we can infer that there is no significance decrease of the value of within cluster sum of squares (WCSS) from the value of K=3. Hence the optimal number of clusters as obtained from the \"Elbow Method\" is 3."
      ]
    },
    {
      "cell_type": "markdown",
      "metadata": {
        "id": "Ky3Fc2fs1Alj"
      },
      "source": [
        "**K-Means Algorithm**"
      ]
    },
    {
      "cell_type": "code",
      "metadata": {
        "id": "tSahdTsLjcts"
      },
      "source": [
        "km=KMeans(n_clusters=3,init = 'k-means++',random_state=42,max_iter=300)\n",
        "km.fit(X)\n",
        "y_kmeans=km.predict(X)\n",
        "#‘k-means++’ : selects initial cluster centers for k-mean clustering in a smart way to speed up convergence."
      ],
      "execution_count": 55,
      "outputs": []
    },
    {
      "cell_type": "code",
      "metadata": {
        "id": "-ZqkBW02l6s2",
        "outputId": "342e956c-b41c-4ed4-8330-712c398fe420",
        "colab": {
          "base_uri": "https://localhost:8080/",
          "height": 285
        }
      },
      "source": [
        "# plotting using the classes based on the targets specified in the dataset\n",
        "# Visualising the clusters - On the first two columns \n",
        "# (since we can't plot all the 4 dimensions on a single plot) and color attribute to specify the class of that particular object.\n",
        "plt.scatter(X[y == 0, 0], X[y == 0, 1],s = 100, c = 'red', label = 'Iris-setosa')\n",
        "plt.scatter(X[y == 1, 0], X[y == 1, 1],s = 100, c = 'blue', label = 'Iris-versicolour')\n",
        "plt.scatter(X[y == 2, 0], X[y == 2, 1],s = 100, c = 'green', label = 'Iris-virginica')\n",
        "\n",
        "# Plotting the centroids of the clusters\n",
        "plt.scatter(km.cluster_centers_[:, 0], km.cluster_centers_[:,1],s = 100, c = 'yellow', label = 'Centroids')\n",
        "plt.legend()"
      ],
      "execution_count": 56,
      "outputs": [
        {
          "output_type": "execute_result",
          "data": {
            "text/plain": [
              "<matplotlib.legend.Legend at 0x7f85a87ac4a8>"
            ]
          },
          "metadata": {
            "tags": []
          },
          "execution_count": 56
        },
        {
          "output_type": "display_data",
          "data": {
            "image/png": "[encoded data removed]",
            "text/plain": [
              "<Figure size 432x288 with 1 Axes>"
            ]
          },
          "metadata": {
            "tags": [],
            "needs_background": "light"
          }
        }
      ]
    },
    {
      "cell_type": "code",
      "metadata": {
        "id": "3kptFynXxRmp",
        "outputId": "67ac4331-4070-4372-dee9-b72249338312",
        "colab": {
          "base_uri": "https://localhost:8080/",
          "height": 285
        }
      },
      "source": [
        "# plotting using the classes predicted by the k-means classifier\n",
        "# Visualising the clusters - On the first two columns\n",
        "plt.scatter(X[y_kmeans == 0, 0], X[y_kmeans == 0, 1],s = 100, c = 'red', label = 'Iris-setosa')\n",
        "plt.scatter(X[y_kmeans == 1, 0], X[y_kmeans == 1, 1],s = 100, c = 'blue', label = 'Iris-versicolour')\n",
        "plt.scatter(X[y_kmeans == 2, 0], X[y_kmeans == 2, 1],s = 100, c = 'green', label = 'Iris-virginica')\n",
        "\n",
        "# Plotting the centroids of the clusters\n",
        "plt.scatter(km.cluster_centers_[:, 0], km.cluster_centers_[:,1],s = 100, c = 'yellow', label = 'Centroids')\n",
        "plt.legend()"
      ],
      "execution_count": 57,
      "outputs": [
        {
          "output_type": "execute_result",
          "data": {
            "text/plain": [
              "<matplotlib.legend.Legend at 0x7f85a788bbe0>"
            ]
          },
          "metadata": {
            "tags": []
          },
          "execution_count": 57
        },
        {
          "output_type": "display_data",
          "data": {
            "image/png": "[encoded data removed]",
            "text/plain": [
              "<Figure size 432x288 with 1 Axes>"
            ]
          },
          "metadata": {
            "tags": [],
            "needs_background": "light"
          }
        }
      ]
    },
    {
      "cell_type": "markdown",
      "metadata": {
        "id": "9482QzcV253T"
      },
      "source": [
        "Thus, the above graphs are quite similar in terms of grouping the similar kind of flowers which means classifier is predicting the category of the flower with good accuracy, given the 4 input features.\n",
        "\n",
        "Also, we can see that the model is finding difficult to differentiate between the 'Iris-setosa' and the 'Iris-virginica' categories of the flowers in the given dataset since they look quite overlapped."
      ]
    },
    {
      "cell_type": "markdown",
      "metadata": {
        "id": "MDQj3PKB1jeD"
      },
      "source": [
        "**Results , Evaluation and Metrics**"
      ]
    },
    {
      "cell_type": "code",
      "metadata": {
        "id": "EJW0zO5Imt7u",
        "outputId": "0ea7e15c-e8fb-45a5-ab69-d34e873752db",
        "colab": {
          "base_uri": "https://localhost:8080/"
        }
      },
      "source": [
        "#The final step is to evaluate the performance of the algorithm. \n",
        "#This step is particularly important to compare how well different algorithms perform on a particular dataset\n",
        "from sklearn import metrics \n",
        "iris_k_mean = KMeans(n_clusters=3)\n",
        "iris_k_mean.fit(X)\n",
        "predict_y = np.choose(iris_k_mean.labels_ , [1,0,2]).astype(np.int64)\n",
        "print(\"Accuracy:\",metrics.accuracy_score(predict_y, y))"
      ],
      "execution_count": 58,
      "outputs": [
        {
          "output_type": "stream",
          "text": [
            "Accuracy: 0.8933333333333333\n"
          ],
          "name": "stdout"
        }
      ]
    },
    {
      "cell_type": "markdown",
      "metadata": {
        "id": "ydvdD6LLy8Bk"
      },
      "source": [
        "Thus, the accuracy achieved by clustering is around 89% ."
      ]
    }
  ]
}